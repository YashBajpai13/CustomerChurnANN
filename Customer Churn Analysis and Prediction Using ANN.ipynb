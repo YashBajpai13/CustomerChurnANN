{
 "cells": [
  {
   "cell_type": "code",
   "execution_count": 1,
   "id": "941c7157",
   "metadata": {},
   "outputs": [],
   "source": [
    "import numpy as np\n",
    "import pandas as pd\n",
    "import matplotlib.pyplot as plt\n",
    "import seaborn as sns\n",
    "import tensorflow as tf\n",
    "import warnings\n",
    "warnings.filterwarnings('ignore')"
   ]
  },
  {
   "cell_type": "markdown",
   "id": "bc2120de",
   "metadata": {},
   "source": [
    "**Data Loading And Exploration**"
   ]
  },
  {
   "cell_type": "code",
   "execution_count": 2,
   "id": "e0976558",
   "metadata": {},
   "outputs": [
    {
     "data": {
      "text/html": [
       "<div>\n",
       "<style scoped>\n",
       "    .dataframe tbody tr th:only-of-type {\n",
       "        vertical-align: middle;\n",
       "    }\n",
       "\n",
       "    .dataframe tbody tr th {\n",
       "        vertical-align: top;\n",
       "    }\n",
       "\n",
       "    .dataframe thead th {\n",
       "        text-align: right;\n",
       "    }\n",
       "</style>\n",
       "<table border=\"1\" class=\"dataframe\">\n",
       "  <thead>\n",
       "    <tr style=\"text-align: right;\">\n",
       "      <th></th>\n",
       "      <th>RowNumber</th>\n",
       "      <th>CustomerId</th>\n",
       "      <th>Surname</th>\n",
       "      <th>CreditScore</th>\n",
       "      <th>Geography</th>\n",
       "      <th>Gender</th>\n",
       "      <th>Age</th>\n",
       "      <th>Tenure</th>\n",
       "      <th>Balance</th>\n",
       "      <th>NumOfProducts</th>\n",
       "      <th>HasCrCard</th>\n",
       "      <th>IsActiveMember</th>\n",
       "      <th>EstimatedSalary</th>\n",
       "      <th>Exited</th>\n",
       "    </tr>\n",
       "  </thead>\n",
       "  <tbody>\n",
       "    <tr>\n",
       "      <th>0</th>\n",
       "      <td>1</td>\n",
       "      <td>15634602</td>\n",
       "      <td>Hargrave</td>\n",
       "      <td>619</td>\n",
       "      <td>France</td>\n",
       "      <td>Female</td>\n",
       "      <td>42</td>\n",
       "      <td>2</td>\n",
       "      <td>0.00</td>\n",
       "      <td>1</td>\n",
       "      <td>1</td>\n",
       "      <td>1</td>\n",
       "      <td>101348.88</td>\n",
       "      <td>1</td>\n",
       "    </tr>\n",
       "    <tr>\n",
       "      <th>1</th>\n",
       "      <td>2</td>\n",
       "      <td>15647311</td>\n",
       "      <td>Hill</td>\n",
       "      <td>608</td>\n",
       "      <td>Spain</td>\n",
       "      <td>Female</td>\n",
       "      <td>41</td>\n",
       "      <td>1</td>\n",
       "      <td>83807.86</td>\n",
       "      <td>1</td>\n",
       "      <td>0</td>\n",
       "      <td>1</td>\n",
       "      <td>112542.58</td>\n",
       "      <td>0</td>\n",
       "    </tr>\n",
       "    <tr>\n",
       "      <th>2</th>\n",
       "      <td>3</td>\n",
       "      <td>15619304</td>\n",
       "      <td>Onio</td>\n",
       "      <td>502</td>\n",
       "      <td>France</td>\n",
       "      <td>Female</td>\n",
       "      <td>42</td>\n",
       "      <td>8</td>\n",
       "      <td>159660.80</td>\n",
       "      <td>3</td>\n",
       "      <td>1</td>\n",
       "      <td>0</td>\n",
       "      <td>113931.57</td>\n",
       "      <td>1</td>\n",
       "    </tr>\n",
       "    <tr>\n",
       "      <th>3</th>\n",
       "      <td>4</td>\n",
       "      <td>15701354</td>\n",
       "      <td>Boni</td>\n",
       "      <td>699</td>\n",
       "      <td>France</td>\n",
       "      <td>Female</td>\n",
       "      <td>39</td>\n",
       "      <td>1</td>\n",
       "      <td>0.00</td>\n",
       "      <td>2</td>\n",
       "      <td>0</td>\n",
       "      <td>0</td>\n",
       "      <td>93826.63</td>\n",
       "      <td>0</td>\n",
       "    </tr>\n",
       "    <tr>\n",
       "      <th>4</th>\n",
       "      <td>5</td>\n",
       "      <td>15737888</td>\n",
       "      <td>Mitchell</td>\n",
       "      <td>850</td>\n",
       "      <td>Spain</td>\n",
       "      <td>Female</td>\n",
       "      <td>43</td>\n",
       "      <td>2</td>\n",
       "      <td>125510.82</td>\n",
       "      <td>1</td>\n",
       "      <td>1</td>\n",
       "      <td>1</td>\n",
       "      <td>79084.10</td>\n",
       "      <td>0</td>\n",
       "    </tr>\n",
       "  </tbody>\n",
       "</table>\n",
       "</div>"
      ],
      "text/plain": [
       "   RowNumber  CustomerId   Surname  CreditScore Geography  Gender  Age  \\\n",
       "0          1    15634602  Hargrave          619    France  Female   42   \n",
       "1          2    15647311      Hill          608     Spain  Female   41   \n",
       "2          3    15619304      Onio          502    France  Female   42   \n",
       "3          4    15701354      Boni          699    France  Female   39   \n",
       "4          5    15737888  Mitchell          850     Spain  Female   43   \n",
       "\n",
       "   Tenure    Balance  NumOfProducts  HasCrCard  IsActiveMember  \\\n",
       "0       2       0.00              1          1               1   \n",
       "1       1   83807.86              1          0               1   \n",
       "2       8  159660.80              3          1               0   \n",
       "3       1       0.00              2          0               0   \n",
       "4       2  125510.82              1          1               1   \n",
       "\n",
       "   EstimatedSalary  Exited  \n",
       "0        101348.88       1  \n",
       "1        112542.58       0  \n",
       "2        113931.57       1  \n",
       "3         93826.63       0  \n",
       "4         79084.10       0  "
      ]
     },
     "execution_count": 2,
     "metadata": {},
     "output_type": "execute_result"
    }
   ],
   "source": [
    "df = pd.read_csv(\"Churn_Modelling.csv\")\n",
    "df.head()"
   ]
  },
  {
   "cell_type": "code",
   "execution_count": 3,
   "id": "7744665e",
   "metadata": {},
   "outputs": [
    {
     "name": "stdout",
     "output_type": "stream",
     "text": [
      "<class 'pandas.core.frame.DataFrame'>\n",
      "RangeIndex: 10000 entries, 0 to 9999\n",
      "Data columns (total 14 columns):\n",
      " #   Column           Non-Null Count  Dtype  \n",
      "---  ------           --------------  -----  \n",
      " 0   RowNumber        10000 non-null  int64  \n",
      " 1   CustomerId       10000 non-null  int64  \n",
      " 2   Surname          10000 non-null  object \n",
      " 3   CreditScore      10000 non-null  int64  \n",
      " 4   Geography        10000 non-null  object \n",
      " 5   Gender           10000 non-null  object \n",
      " 6   Age              10000 non-null  int64  \n",
      " 7   Tenure           10000 non-null  int64  \n",
      " 8   Balance          10000 non-null  float64\n",
      " 9   NumOfProducts    10000 non-null  int64  \n",
      " 10  HasCrCard        10000 non-null  int64  \n",
      " 11  IsActiveMember   10000 non-null  int64  \n",
      " 12  EstimatedSalary  10000 non-null  float64\n",
      " 13  Exited           10000 non-null  int64  \n",
      "dtypes: float64(2), int64(9), object(3)\n",
      "memory usage: 1.1+ MB\n"
     ]
    }
   ],
   "source": [
    "df.info()"
   ]
  },
  {
   "cell_type": "code",
   "execution_count": 4,
   "id": "6740d162",
   "metadata": {},
   "outputs": [
    {
     "data": {
      "text/html": [
       "<div>\n",
       "<style scoped>\n",
       "    .dataframe tbody tr th:only-of-type {\n",
       "        vertical-align: middle;\n",
       "    }\n",
       "\n",
       "    .dataframe tbody tr th {\n",
       "        vertical-align: top;\n",
       "    }\n",
       "\n",
       "    .dataframe thead th {\n",
       "        text-align: right;\n",
       "    }\n",
       "</style>\n",
       "<table border=\"1\" class=\"dataframe\">\n",
       "  <thead>\n",
       "    <tr style=\"text-align: right;\">\n",
       "      <th></th>\n",
       "      <th>RowNumber</th>\n",
       "      <th>CustomerId</th>\n",
       "      <th>CreditScore</th>\n",
       "      <th>Age</th>\n",
       "      <th>Tenure</th>\n",
       "      <th>Balance</th>\n",
       "      <th>NumOfProducts</th>\n",
       "      <th>HasCrCard</th>\n",
       "      <th>IsActiveMember</th>\n",
       "      <th>EstimatedSalary</th>\n",
       "      <th>Exited</th>\n",
       "    </tr>\n",
       "  </thead>\n",
       "  <tbody>\n",
       "    <tr>\n",
       "      <th>count</th>\n",
       "      <td>10000.00000</td>\n",
       "      <td>1.000000e+04</td>\n",
       "      <td>10000.000000</td>\n",
       "      <td>10000.000000</td>\n",
       "      <td>10000.000000</td>\n",
       "      <td>10000.000000</td>\n",
       "      <td>10000.000000</td>\n",
       "      <td>10000.00000</td>\n",
       "      <td>10000.000000</td>\n",
       "      <td>10000.000000</td>\n",
       "      <td>10000.000000</td>\n",
       "    </tr>\n",
       "    <tr>\n",
       "      <th>mean</th>\n",
       "      <td>5000.50000</td>\n",
       "      <td>1.569094e+07</td>\n",
       "      <td>650.528800</td>\n",
       "      <td>38.921800</td>\n",
       "      <td>5.012800</td>\n",
       "      <td>76485.889288</td>\n",
       "      <td>1.530200</td>\n",
       "      <td>0.70550</td>\n",
       "      <td>0.515100</td>\n",
       "      <td>100090.239881</td>\n",
       "      <td>0.203700</td>\n",
       "    </tr>\n",
       "    <tr>\n",
       "      <th>std</th>\n",
       "      <td>2886.89568</td>\n",
       "      <td>7.193619e+04</td>\n",
       "      <td>96.653299</td>\n",
       "      <td>10.487806</td>\n",
       "      <td>2.892174</td>\n",
       "      <td>62397.405202</td>\n",
       "      <td>0.581654</td>\n",
       "      <td>0.45584</td>\n",
       "      <td>0.499797</td>\n",
       "      <td>57510.492818</td>\n",
       "      <td>0.402769</td>\n",
       "    </tr>\n",
       "    <tr>\n",
       "      <th>min</th>\n",
       "      <td>1.00000</td>\n",
       "      <td>1.556570e+07</td>\n",
       "      <td>350.000000</td>\n",
       "      <td>18.000000</td>\n",
       "      <td>0.000000</td>\n",
       "      <td>0.000000</td>\n",
       "      <td>1.000000</td>\n",
       "      <td>0.00000</td>\n",
       "      <td>0.000000</td>\n",
       "      <td>11.580000</td>\n",
       "      <td>0.000000</td>\n",
       "    </tr>\n",
       "    <tr>\n",
       "      <th>25%</th>\n",
       "      <td>2500.75000</td>\n",
       "      <td>1.562853e+07</td>\n",
       "      <td>584.000000</td>\n",
       "      <td>32.000000</td>\n",
       "      <td>3.000000</td>\n",
       "      <td>0.000000</td>\n",
       "      <td>1.000000</td>\n",
       "      <td>0.00000</td>\n",
       "      <td>0.000000</td>\n",
       "      <td>51002.110000</td>\n",
       "      <td>0.000000</td>\n",
       "    </tr>\n",
       "    <tr>\n",
       "      <th>50%</th>\n",
       "      <td>5000.50000</td>\n",
       "      <td>1.569074e+07</td>\n",
       "      <td>652.000000</td>\n",
       "      <td>37.000000</td>\n",
       "      <td>5.000000</td>\n",
       "      <td>97198.540000</td>\n",
       "      <td>1.000000</td>\n",
       "      <td>1.00000</td>\n",
       "      <td>1.000000</td>\n",
       "      <td>100193.915000</td>\n",
       "      <td>0.000000</td>\n",
       "    </tr>\n",
       "    <tr>\n",
       "      <th>75%</th>\n",
       "      <td>7500.25000</td>\n",
       "      <td>1.575323e+07</td>\n",
       "      <td>718.000000</td>\n",
       "      <td>44.000000</td>\n",
       "      <td>7.000000</td>\n",
       "      <td>127644.240000</td>\n",
       "      <td>2.000000</td>\n",
       "      <td>1.00000</td>\n",
       "      <td>1.000000</td>\n",
       "      <td>149388.247500</td>\n",
       "      <td>0.000000</td>\n",
       "    </tr>\n",
       "    <tr>\n",
       "      <th>max</th>\n",
       "      <td>10000.00000</td>\n",
       "      <td>1.581569e+07</td>\n",
       "      <td>850.000000</td>\n",
       "      <td>92.000000</td>\n",
       "      <td>10.000000</td>\n",
       "      <td>250898.090000</td>\n",
       "      <td>4.000000</td>\n",
       "      <td>1.00000</td>\n",
       "      <td>1.000000</td>\n",
       "      <td>199992.480000</td>\n",
       "      <td>1.000000</td>\n",
       "    </tr>\n",
       "  </tbody>\n",
       "</table>\n",
       "</div>"
      ],
      "text/plain": [
       "         RowNumber    CustomerId   CreditScore           Age        Tenure  \\\n",
       "count  10000.00000  1.000000e+04  10000.000000  10000.000000  10000.000000   \n",
       "mean    5000.50000  1.569094e+07    650.528800     38.921800      5.012800   \n",
       "std     2886.89568  7.193619e+04     96.653299     10.487806      2.892174   \n",
       "min        1.00000  1.556570e+07    350.000000     18.000000      0.000000   \n",
       "25%     2500.75000  1.562853e+07    584.000000     32.000000      3.000000   \n",
       "50%     5000.50000  1.569074e+07    652.000000     37.000000      5.000000   \n",
       "75%     7500.25000  1.575323e+07    718.000000     44.000000      7.000000   \n",
       "max    10000.00000  1.581569e+07    850.000000     92.000000     10.000000   \n",
       "\n",
       "             Balance  NumOfProducts    HasCrCard  IsActiveMember  \\\n",
       "count   10000.000000   10000.000000  10000.00000    10000.000000   \n",
       "mean    76485.889288       1.530200      0.70550        0.515100   \n",
       "std     62397.405202       0.581654      0.45584        0.499797   \n",
       "min         0.000000       1.000000      0.00000        0.000000   \n",
       "25%         0.000000       1.000000      0.00000        0.000000   \n",
       "50%     97198.540000       1.000000      1.00000        1.000000   \n",
       "75%    127644.240000       2.000000      1.00000        1.000000   \n",
       "max    250898.090000       4.000000      1.00000        1.000000   \n",
       "\n",
       "       EstimatedSalary        Exited  \n",
       "count     10000.000000  10000.000000  \n",
       "mean     100090.239881      0.203700  \n",
       "std       57510.492818      0.402769  \n",
       "min          11.580000      0.000000  \n",
       "25%       51002.110000      0.000000  \n",
       "50%      100193.915000      0.000000  \n",
       "75%      149388.247500      0.000000  \n",
       "max      199992.480000      1.000000  "
      ]
     },
     "execution_count": 4,
     "metadata": {},
     "output_type": "execute_result"
    }
   ],
   "source": [
    "df.describe()"
   ]
  },
  {
   "cell_type": "code",
   "execution_count": 5,
   "id": "e64db8a7",
   "metadata": {},
   "outputs": [
    {
     "data": {
      "image/png": "[encoded data removed]",
      "text/plain": [
       "<Figure size 1440x720 with 12 Axes>"
      ]
     },
     "metadata": {
      "needs_background": "light"
     },
     "output_type": "display_data"
    }
   ],
   "source": [
    "df.drop(['RowNumber', 'CustomerId'], axis = 1).hist(figsize = (20,10), layout = (3, 4))\n",
    "plt.show()"
   ]
  },
  {
   "cell_type": "code",
   "execution_count": 6,
   "id": "eaf6b8b9",
   "metadata": {},
   "outputs": [
    {
     "data": {
      "image/png": "[encoded data removed]",
      "text/plain": [
       "<Figure size 720x216 with 2 Axes>"
      ]
     },
     "metadata": {
      "needs_background": "light"
     },
     "output_type": "display_data"
    }
   ],
   "source": [
    "fig , (ax1, ax2) = plt.subplots(1, 2, figsize = (10,3))\n",
    "sns.countplot('Geography', data = df, ax = ax1)\n",
    "ax1.set_title('Customers from various countries')\n",
    "sns.countplot('Geography', data = df, hue = 'Exited', ax=ax2)\n",
    "ax2.set_title('Difference in churn B/W countries')\n",
    "plt.show()\n",
    "# Less number of people are engaged with the bank from Germany , and Germany has the maximum churn rate.\n",
    "# Spain has the least churn rate\n",
    "# France has the maximum number of people associated with the bank"
   ]
  },
  {
   "cell_type": "code",
   "execution_count": 7,
   "id": "95a8a752",
   "metadata": {},
   "outputs": [
    {
     "data": {
      "image/png": "[encoded data removed]",
      "text/plain": [
       "<Figure size 720x216 with 2 Axes>"
      ]
     },
     "metadata": {
      "needs_background": "light"
     },
     "output_type": "display_data"
    }
   ],
   "source": [
    "fig , (ax1, ax2) = plt.subplots(1 , 2 , figsize = (10, 3))\n",
    "sns.countplot('Gender', data = df, ax = ax1)\n",
    "ax1.set_title('Number of Males and Females')\n",
    "ax2.set_title('Difference in churn B/W the 2 genders')\n",
    "sns.countplot('Gender', data = df, ax = ax2, hue = 'Exited')\n",
    "plt.show()\n",
    "# Female churn rate is higher"
   ]
  },
  {
   "cell_type": "code",
   "execution_count": 8,
   "id": "6588eff9",
   "metadata": {},
   "outputs": [
    {
     "data": {
      "image/png": "[encoded data removed]",
      "text/plain": [
       "<Figure size 720x720 with 4 Axes>"
      ]
     },
     "metadata": {},
     "output_type": "display_data"
    }
   ],
   "source": [
    "median = df[['EstimatedSalary', 'Balance']].median()\n",
    "medianSalary = median[0]\n",
    "medianBalance = median[1]\n",
    "\n",
    "labels = [0, 1]\n",
    "aboveMedSal = df[df['EstimatedSalary'] >= medianSalary]['Exited'].value_counts().to_list()\n",
    "belowMedSal = df[df['EstimatedSalary'] < medianSalary]['Exited'].value_counts().to_list()\n",
    "aboveMedBal = df[df['Balance'] >= medianBalance]['Exited'].value_counts().to_list()\n",
    "belowMedBal = df[df['Balance'] < medianBalance]['Exited'].value_counts().to_list()\n",
    "\n",
    "fig , ((ax1, ax2), (ax3,ax4)) = plt.subplots(2, 2, figsize = (10,10))\n",
    "\n",
    "ax1.pie(aboveMedSal, labels = labels, explode = [.05,.005], shadow = True, autopct = '%1.1f%%')\n",
    "ax1.set_title('People with above median salary')\n",
    "\n",
    "ax2.pie(belowMedSal, labels = labels, explode = [.05,.005], shadow = True, autopct = '%1.1f%%')\n",
    "ax2.set_title('People with below median salary')\n",
    "\n",
    "# No real difference between churn rates here\n",
    "\n",
    "ax3.pie(aboveMedBal, labels = labels, explode = [.05,.005], shadow = True, autopct = '%1.1f%%')\n",
    "ax3.set_title('People with above median Balance')\n",
    "\n",
    "ax4.pie(belowMedBal, labels = labels, explode = [.05,.005], shadow = True, autopct = '%1.1f%%')\n",
    "ax4.set_title('People with below median balance')\n",
    "plt.show()\n",
    "\n",
    "# We can see that people above median balance have a higher churn rate than people with below median balance\n"
   ]
  },
  {
   "cell_type": "markdown",
   "id": "a886cbdb",
   "metadata": {},
   "source": [
    "**Data Preprocessing**"
   ]
  },
  {
   "cell_type": "code",
   "execution_count": 9,
   "id": "70d49191",
   "metadata": {},
   "outputs": [],
   "source": [
    "from sklearn.preprocessing import LabelEncoder\n",
    "df[\"Gender\"] = df[\"Gender\"].replace({\"Female\" : 0, \"Male\" : 1})"
   ]
  },
  {
   "cell_type": "code",
   "execution_count": 10,
   "id": "d9550770",
   "metadata": {},
   "outputs": [],
   "source": [
    "oneHotEncoded = pd.get_dummies(df[['Geography']], drop_first = True)\n",
    "\n",
    "df = pd.concat((df, oneHotEncoded), axis = 1)"
   ]
  },
  {
   "cell_type": "code",
   "execution_count": 11,
   "id": "346b29d0",
   "metadata": {},
   "outputs": [],
   "source": [
    "df = df.drop('Geography', axis = 1)"
   ]
  },
  {
   "cell_type": "code",
   "execution_count": 12,
   "id": "372aa1e8",
   "metadata": {},
   "outputs": [
    {
     "data": {
      "text/html": [
       "<div>\n",
       "<style scoped>\n",
       "    .dataframe tbody tr th:only-of-type {\n",
       "        vertical-align: middle;\n",
       "    }\n",
       "\n",
       "    .dataframe tbody tr th {\n",
       "        vertical-align: top;\n",
       "    }\n",
       "\n",
       "    .dataframe thead th {\n",
       "        text-align: right;\n",
       "    }\n",
       "</style>\n",
       "<table border=\"1\" class=\"dataframe\">\n",
       "  <thead>\n",
       "    <tr style=\"text-align: right;\">\n",
       "      <th></th>\n",
       "      <th>RowNumber</th>\n",
       "      <th>CustomerId</th>\n",
       "      <th>Surname</th>\n",
       "      <th>CreditScore</th>\n",
       "      <th>Gender</th>\n",
       "      <th>Age</th>\n",
       "      <th>Tenure</th>\n",
       "      <th>Balance</th>\n",
       "      <th>NumOfProducts</th>\n",
       "      <th>HasCrCard</th>\n",
       "      <th>IsActiveMember</th>\n",
       "      <th>EstimatedSalary</th>\n",
       "      <th>Exited</th>\n",
       "      <th>Geography_Germany</th>\n",
       "      <th>Geography_Spain</th>\n",
       "    </tr>\n",
       "  </thead>\n",
       "  <tbody>\n",
       "    <tr>\n",
       "      <th>0</th>\n",
       "      <td>1</td>\n",
       "      <td>15634602</td>\n",
       "      <td>Hargrave</td>\n",
       "      <td>619</td>\n",
       "      <td>0</td>\n",
       "      <td>42</td>\n",
       "      <td>2</td>\n",
       "      <td>0.00</td>\n",
       "      <td>1</td>\n",
       "      <td>1</td>\n",
       "      <td>1</td>\n",
       "      <td>101348.88</td>\n",
       "      <td>1</td>\n",
       "      <td>0</td>\n",
       "      <td>0</td>\n",
       "    </tr>\n",
       "    <tr>\n",
       "      <th>1</th>\n",
       "      <td>2</td>\n",
       "      <td>15647311</td>\n",
       "      <td>Hill</td>\n",
       "      <td>608</td>\n",
       "      <td>0</td>\n",
       "      <td>41</td>\n",
       "      <td>1</td>\n",
       "      <td>83807.86</td>\n",
       "      <td>1</td>\n",
       "      <td>0</td>\n",
       "      <td>1</td>\n",
       "      <td>112542.58</td>\n",
       "      <td>0</td>\n",
       "      <td>0</td>\n",
       "      <td>1</td>\n",
       "    </tr>\n",
       "    <tr>\n",
       "      <th>2</th>\n",
       "      <td>3</td>\n",
       "      <td>15619304</td>\n",
       "      <td>Onio</td>\n",
       "      <td>502</td>\n",
       "      <td>0</td>\n",
       "      <td>42</td>\n",
       "      <td>8</td>\n",
       "      <td>159660.80</td>\n",
       "      <td>3</td>\n",
       "      <td>1</td>\n",
       "      <td>0</td>\n",
       "      <td>113931.57</td>\n",
       "      <td>1</td>\n",
       "      <td>0</td>\n",
       "      <td>0</td>\n",
       "    </tr>\n",
       "    <tr>\n",
       "      <th>3</th>\n",
       "      <td>4</td>\n",
       "      <td>15701354</td>\n",
       "      <td>Boni</td>\n",
       "      <td>699</td>\n",
       "      <td>0</td>\n",
       "      <td>39</td>\n",
       "      <td>1</td>\n",
       "      <td>0.00</td>\n",
       "      <td>2</td>\n",
       "      <td>0</td>\n",
       "      <td>0</td>\n",
       "      <td>93826.63</td>\n",
       "      <td>0</td>\n",
       "      <td>0</td>\n",
       "      <td>0</td>\n",
       "    </tr>\n",
       "    <tr>\n",
       "      <th>4</th>\n",
       "      <td>5</td>\n",
       "      <td>15737888</td>\n",
       "      <td>Mitchell</td>\n",
       "      <td>850</td>\n",
       "      <td>0</td>\n",
       "      <td>43</td>\n",
       "      <td>2</td>\n",
       "      <td>125510.82</td>\n",
       "      <td>1</td>\n",
       "      <td>1</td>\n",
       "      <td>1</td>\n",
       "      <td>79084.10</td>\n",
       "      <td>0</td>\n",
       "      <td>0</td>\n",
       "      <td>1</td>\n",
       "    </tr>\n",
       "  </tbody>\n",
       "</table>\n",
       "</div>"
      ],
      "text/plain": [
       "   RowNumber  CustomerId   Surname  CreditScore  Gender  Age  Tenure  \\\n",
       "0          1    15634602  Hargrave          619       0   42       2   \n",
       "1          2    15647311      Hill          608       0   41       1   \n",
       "2          3    15619304      Onio          502       0   42       8   \n",
       "3          4    15701354      Boni          699       0   39       1   \n",
       "4          5    15737888  Mitchell          850       0   43       2   \n",
       "\n",
       "     Balance  NumOfProducts  HasCrCard  IsActiveMember  EstimatedSalary  \\\n",
       "0       0.00              1          1               1        101348.88   \n",
       "1   83807.86              1          0               1        112542.58   \n",
       "2  159660.80              3          1               0        113931.57   \n",
       "3       0.00              2          0               0         93826.63   \n",
       "4  125510.82              1          1               1         79084.10   \n",
       "\n",
       "   Exited  Geography_Germany  Geography_Spain  \n",
       "0       1                  0                0  \n",
       "1       0                  0                1  \n",
       "2       1                  0                0  \n",
       "3       0                  0                0  \n",
       "4       0                  0                1  "
      ]
     },
     "execution_count": 12,
     "metadata": {},
     "output_type": "execute_result"
    }
   ],
   "source": [
    "df.head()"
   ]
  },
  {
   "cell_type": "code",
   "execution_count": 13,
   "id": "76211327",
   "metadata": {},
   "outputs": [],
   "source": [
    "X = df.iloc[:, 3:].drop('Exited', axis = 1).values\n",
    "y = df['Exited'].values"
   ]
  },
  {
   "cell_type": "markdown",
   "id": "f38e13f9",
   "metadata": {},
   "source": [
    "**Splitting the data into test and training set**"
   ]
  },
  {
   "cell_type": "code",
   "execution_count": 14,
   "id": "6ef7fea1",
   "metadata": {},
   "outputs": [],
   "source": [
    "from sklearn.model_selection import train_test_split\n",
    "Xtrain, Xtest, ytrain, ytest = train_test_split(X, y, test_size = 0.2)"
   ]
  },
  {
   "cell_type": "markdown",
   "id": "ca3d6ea9",
   "metadata": {},
   "source": [
    "**Feature Scaling**"
   ]
  },
  {
   "cell_type": "code",
   "execution_count": 15,
   "id": "361bd459",
   "metadata": {},
   "outputs": [],
   "source": [
    "from sklearn.preprocessing import StandardScaler\n",
    "sc = StandardScaler()\n",
    "Xtrain = sc.fit_transform(Xtrain)\n",
    "Xtest = sc.transform(Xtest)"
   ]
  },
  {
   "cell_type": "markdown",
   "id": "d474693a",
   "metadata": {},
   "source": [
    "**Artificial Neural Network**"
   ]
  },
  {
   "cell_type": "code",
   "execution_count": 16,
   "id": "9718858e",
   "metadata": {},
   "outputs": [],
   "source": [
    "from tensorflow.keras.models import Sequential\n",
    "from tensorflow.keras.layers import Dense"
   ]
  },
  {
   "cell_type": "code",
   "execution_count": 17,
   "id": "be7e2a1b",
   "metadata": {},
   "outputs": [],
   "source": [
    "ann = Sequential() # Initialize Sequential Model\n",
    "ann.add(Dense(units = 6, activation = \"relu\")) # Add layer using add function from sequential, The layers are made from a different class called Dense class\n",
    "ann.add(Dense(units = 3, activation = \"relu\")) # Layer 2\n",
    "ann.add(Dense(units = 1, activation = \"sigmoid\")) # Output layer\n"
   ]
  },
  {
   "cell_type": "code",
   "execution_count": 18,
   "id": "114db0f1",
   "metadata": {},
   "outputs": [
    {
     "data": {
      "text/plain": [
       "[<keras.layers.core.Dense at 0x1e61b5c2b20>,\n",
       " <keras.layers.core.Dense at 0x1e61bd0df40>,\n",
       " <keras.layers.core.Dense at 0x1e61bd41dc0>]"
      ]
     },
     "execution_count": 18,
     "metadata": {},
     "output_type": "execute_result"
    }
   ],
   "source": [
    "ann.layers"
   ]
  },
  {
   "cell_type": "code",
   "execution_count": 19,
   "id": "1670e688",
   "metadata": {},
   "outputs": [],
   "source": [
    "ann.compile(optimizer = 'adam', loss = 'binary_crossentropy', metrics = ['accuracy'])"
   ]
  },
  {
   "cell_type": "code",
   "execution_count": 20,
   "id": "58c1d49e",
   "metadata": {},
   "outputs": [
    {
     "name": "stdout",
     "output_type": "stream",
     "text": [
      "Epoch 1/50\n",
      "160/160 [==============================] - 2s 3ms/step - loss: 0.5418 - accuracy: 0.7689\n",
      "Epoch 2/50\n",
      "160/160 [==============================] - 0s 3ms/step - loss: 0.4736 - accuracy: 0.7950\n",
      "Epoch 3/50\n",
      "160/160 [==============================] - 0s 3ms/step - loss: 0.4527 - accuracy: 0.7947\n",
      "Epoch 4/50\n",
      "160/160 [==============================] - 0s 3ms/step - loss: 0.4425 - accuracy: 0.7962\n",
      "Epoch 5/50\n",
      "160/160 [==============================] - 0s 3ms/step - loss: 0.4350 - accuracy: 0.7995\n",
      "Epoch 6/50\n",
      "160/160 [==============================] - 1s 3ms/step - loss: 0.4275 - accuracy: 0.8041\n",
      "Epoch 7/50\n",
      "160/160 [==============================] - 1s 4ms/step - loss: 0.4184 - accuracy: 0.8079\n",
      "Epoch 8/50\n",
      "160/160 [==============================] - 1s 4ms/step - loss: 0.4091 - accuracy: 0.8116\n",
      "Epoch 9/50\n",
      "160/160 [==============================] - 1s 3ms/step - loss: 0.4008 - accuracy: 0.8146\n",
      "Epoch 10/50\n",
      "160/160 [==============================] - 1s 3ms/step - loss: 0.3939 - accuracy: 0.8179\n",
      "Epoch 11/50\n",
      "160/160 [==============================] - 0s 3ms/step - loss: 0.3882 - accuracy: 0.8245\n",
      "Epoch 12/50\n",
      "160/160 [==============================] - 1s 4ms/step - loss: 0.3836 - accuracy: 0.8265\n",
      "Epoch 13/50\n",
      "160/160 [==============================] - 1s 5ms/step - loss: 0.3798 - accuracy: 0.8274: 0s - loss: 0.377\n",
      "Epoch 14/50\n",
      "160/160 [==============================] - 1s 4ms/step - loss: 0.3764 - accuracy: 0.8326\n",
      "Epoch 15/50\n",
      "160/160 [==============================] - 1s 4ms/step - loss: 0.3735 - accuracy: 0.8370\n",
      "Epoch 16/50\n",
      "160/160 [==============================] - 0s 3ms/step - loss: 0.3715 - accuracy: 0.8389: 0s - loss: 0.3612 - ac\n",
      "Epoch 17/50\n",
      "160/160 [==============================] - 0s 3ms/step - loss: 0.3693 - accuracy: 0.8415\n",
      "Epoch 18/50\n",
      "160/160 [==============================] - 1s 3ms/step - loss: 0.3679 - accuracy: 0.8447\n",
      "Epoch 19/50\n",
      "160/160 [==============================] - 0s 3ms/step - loss: 0.3660 - accuracy: 0.8466\n",
      "Epoch 20/50\n",
      "160/160 [==============================] - 0s 3ms/step - loss: 0.3647 - accuracy: 0.8472\n",
      "Epoch 21/50\n",
      "160/160 [==============================] - 0s 3ms/step - loss: 0.3630 - accuracy: 0.8480\n",
      "Epoch 22/50\n",
      "160/160 [==============================] - 1s 3ms/step - loss: 0.3617 - accuracy: 0.8496\n",
      "Epoch 23/50\n",
      "160/160 [==============================] - 1s 3ms/step - loss: 0.3605 - accuracy: 0.8525\n",
      "Epoch 24/50\n",
      "160/160 [==============================] - 1s 3ms/step - loss: 0.3597 - accuracy: 0.8528\n",
      "Epoch 25/50\n",
      "160/160 [==============================] - 0s 3ms/step - loss: 0.3589 - accuracy: 0.8539\n",
      "Epoch 26/50\n",
      "160/160 [==============================] - 0s 3ms/step - loss: 0.3582 - accuracy: 0.8553\n",
      "Epoch 27/50\n",
      "160/160 [==============================] - 0s 2ms/step - loss: 0.3575 - accuracy: 0.8558\n",
      "Epoch 28/50\n",
      "160/160 [==============================] - 0s 3ms/step - loss: 0.3569 - accuracy: 0.8569\n",
      "Epoch 29/50\n",
      "160/160 [==============================] - 0s 2ms/step - loss: 0.3566 - accuracy: 0.8564\n",
      "Epoch 30/50\n",
      "160/160 [==============================] - 0s 2ms/step - loss: 0.3559 - accuracy: 0.8559\n",
      "Epoch 31/50\n",
      "160/160 [==============================] - 0s 2ms/step - loss: 0.3557 - accuracy: 0.8568\n",
      "Epoch 32/50\n",
      "160/160 [==============================] - 0s 3ms/step - loss: 0.3551 - accuracy: 0.8571\n",
      "Epoch 33/50\n",
      "160/160 [==============================] - 0s 2ms/step - loss: 0.3546 - accuracy: 0.8581\n",
      "Epoch 34/50\n",
      "160/160 [==============================] - 0s 2ms/step - loss: 0.3542 - accuracy: 0.8576\n",
      "Epoch 35/50\n",
      "160/160 [==============================] - 0s 2ms/step - loss: 0.3536 - accuracy: 0.8584\n",
      "Epoch 36/50\n",
      "160/160 [==============================] - 0s 3ms/step - loss: 0.3534 - accuracy: 0.8571\n",
      "Epoch 37/50\n",
      "160/160 [==============================] - 0s 3ms/step - loss: 0.3533 - accuracy: 0.8560\n",
      "Epoch 38/50\n",
      "160/160 [==============================] - 0s 2ms/step - loss: 0.3527 - accuracy: 0.8566\n",
      "Epoch 39/50\n",
      "160/160 [==============================] - 0s 2ms/step - loss: 0.3524 - accuracy: 0.8575\n",
      "Epoch 40/50\n",
      "160/160 [==============================] - 0s 3ms/step - loss: 0.3523 - accuracy: 0.8561\n",
      "Epoch 41/50\n",
      "160/160 [==============================] - 0s 3ms/step - loss: 0.3517 - accuracy: 0.8566\n",
      "Epoch 42/50\n",
      "160/160 [==============================] - 0s 2ms/step - loss: 0.3516 - accuracy: 0.8584\n",
      "Epoch 43/50\n",
      "160/160 [==============================] - 0s 3ms/step - loss: 0.3512 - accuracy: 0.8568\n",
      "Epoch 44/50\n",
      "160/160 [==============================] - 1s 4ms/step - loss: 0.3511 - accuracy: 0.8575\n",
      "Epoch 45/50\n",
      "160/160 [==============================] - 0s 3ms/step - loss: 0.3506 - accuracy: 0.8579\n",
      "Epoch 46/50\n",
      "160/160 [==============================] - 0s 3ms/step - loss: 0.3499 - accuracy: 0.8564\n",
      "Epoch 47/50\n",
      "160/160 [==============================] - 0s 3ms/step - loss: 0.3500 - accuracy: 0.8560\n",
      "Epoch 48/50\n",
      "160/160 [==============================] - 0s 3ms/step - loss: 0.3495 - accuracy: 0.8568\n",
      "Epoch 49/50\n",
      "160/160 [==============================] - 1s 3ms/step - loss: 0.3496 - accuracy: 0.8566\n",
      "Epoch 50/50\n",
      "160/160 [==============================] - 0s 3ms/step - loss: 0.3491 - accuracy: 0.8566\n"
     ]
    },
    {
     "data": {
      "text/plain": [
       "<keras.callbacks.History at 0x1e61b080520>"
      ]
     },
     "execution_count": 20,
     "metadata": {},
     "output_type": "execute_result"
    }
   ],
   "source": [
    "ann.fit(Xtrain, ytrain, batch_size = 50, epochs = 50)"
   ]
  },
  {
   "cell_type": "code",
   "execution_count": 21,
   "id": "f11fcb51",
   "metadata": {},
   "outputs": [
    {
     "data": {
      "text/plain": [
       "array([[9.869501e-27]], dtype=float32)"
      ]
     },
     "execution_count": 21,
     "metadata": {},
     "output_type": "execute_result"
    }
   ],
   "source": [
    "ann.predict(sc.transform(\n",
    "    [[600, 40, 1, 3, 60000, 2, 1, 1, 50000, 0, 0]])) # Prediction should be done with the same scaling as training set\n",
    "# result will show the probabilty of the customer leaving."
   ]
  },
  {
   "cell_type": "code",
   "execution_count": 22,
   "id": "0067182e",
   "metadata": {},
   "outputs": [
    {
     "data": {
      "text/plain": [
       "array([[False]])"
      ]
     },
     "execution_count": 22,
     "metadata": {},
     "output_type": "execute_result"
    }
   ],
   "source": [
    "ann.predict(sc.transform(\n",
    "    [[600, 40, 1, 3, 60000, 2, 1, 1, 50000, 0, 0]])) > 0.5 # Added Threshold"
   ]
  },
  {
   "cell_type": "markdown",
   "id": "d4e29adf",
   "metadata": {},
   "source": [
    "**Testing**"
   ]
  },
  {
   "cell_type": "code",
   "execution_count": 23,
   "id": "eda6cd9e",
   "metadata": {},
   "outputs": [],
   "source": [
    "yhat = ann.predict(Xtest)\n",
    "yhat = (yhat > 0.5)"
   ]
  },
  {
   "cell_type": "code",
   "execution_count": 24,
   "id": "b02b5292",
   "metadata": {},
   "outputs": [],
   "source": [
    "ypred = []\n",
    "for x in yhat:\n",
    "    if x[0] == False:\n",
    "        ypred.append([0])\n",
    "    else:\n",
    "        ypred.append([1])\n",
    "ypred = np.array(ypred)"
   ]
  },
  {
   "cell_type": "code",
   "execution_count": 25,
   "id": "7f063d97",
   "metadata": {},
   "outputs": [
    {
     "data": {
      "text/plain": [
       "array([[0, 0],\n",
       "       [0, 0],\n",
       "       [1, 0],\n",
       "       ...,\n",
       "       [0, 0],\n",
       "       [0, 0],\n",
       "       [0, 0]], dtype=int64)"
      ]
     },
     "execution_count": 25,
     "metadata": {},
     "output_type": "execute_result"
    }
   ],
   "source": [
    "np.concatenate((ypred.reshape(len(ypred), 1), ytest.reshape(len(ytest), 1)), 1) # yhat, y_actual"
   ]
  },
  {
   "cell_type": "code",
   "execution_count": 26,
   "id": "0aab84de",
   "metadata": {},
   "outputs": [
    {
     "name": "stdout",
     "output_type": "stream",
     "text": [
      "              precision    recall  f1-score   support\n",
      "\n",
      "           0       0.88      0.97      0.92      1606\n",
      "           1       0.76      0.46      0.57       394\n",
      "\n",
      "    accuracy                           0.86      2000\n",
      "   macro avg       0.82      0.71      0.75      2000\n",
      "weighted avg       0.86      0.86      0.85      2000\n",
      "\n",
      "[[1550   56]\n",
      " [ 214  180]]\n"
     ]
    }
   ],
   "source": [
    "from sklearn.metrics import classification_report, confusion_matrix\n",
    "print(classification_report(ytest, ypred))\n",
    "print(confusion_matrix(ytest, ypred))"
   ]
  },
  {
   "cell_type": "code",
   "execution_count": 27,
   "id": "f9a47a69",
   "metadata": {},
   "outputs": [
    {
     "name": "stdout",
     "output_type": "stream",
     "text": [
      "Model: \"sequential\"\n",
      "_________________________________________________________________\n",
      "Layer (type)                 Output Shape              Param #   \n",
      "=================================================================\n",
      "dense (Dense)                (None, 6)                 72        \n",
      "_________________________________________________________________\n",
      "dense_1 (Dense)              (None, 3)                 21        \n",
      "_________________________________________________________________\n",
      "dense_2 (Dense)              (None, 1)                 4         \n",
      "=================================================================\n",
      "Total params: 97\n",
      "Trainable params: 97\n",
      "Non-trainable params: 0\n",
      "_________________________________________________________________\n"
     ]
    }
   ],
   "source": [
    "ann.summary()"
   ]
  }
 ],
 "metadata": {
  "kernelspec": {
   "display_name": "Python 3",
   "language": "python",
   "name": "python3"
  },
  "language_info": {
   "codemirror_mode": {
    "name": "ipython",
    "version": 3
   },
   "file_extension": ".py",
   "mimetype": "text/x-python",
   "name": "python",
   "nbconvert_exporter": "python",
   "pygments_lexer": "ipython3",
   "version": "3.8.8"
  }
 },
 "nbformat": 4,
 "nbformat_minor": 5
}
